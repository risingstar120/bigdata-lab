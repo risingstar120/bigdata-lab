{
 "cells": [
  {
   "cell_type": "markdown",
   "metadata": {},
   "source": [
    "# Dask Intro"
   ]
  },
  {
   "cell_type": "markdown",
   "metadata": {},
   "source": [
    "The purpose of this lab is to give you a brief introduction on the functioning of Dask. All examples have been taken from https://github.com/dask/dask-tutorial . "
   ]
  },
  {
   "cell_type": "markdown",
   "metadata": {},
   "source": [
    "## Dask delayed"
   ]
  },
  {
   "cell_type": "markdown",
   "metadata": {},
   "source": [
    "Delayed functions are lazily evaluated functions (i.e. only evaluated when result is required/ when `compute()` is called)."
   ]
  },
  {
   "cell_type": "code",
   "execution_count": 2,
   "metadata": {},
   "outputs": [],
   "source": [
    "from dask import delayed"
   ]
  },
  {
   "cell_type": "markdown",
   "metadata": {},
   "source": [
    "Python functions can be declared as they normally would. A `@delayed` decorator can be added to a function to specify a delayed function."
   ]
  },
  {
   "cell_type": "code",
   "execution_count": 14,
   "metadata": {},
   "outputs": [],
   "source": [
    "def inc(x):\n",
    "    return x + 1\n",
    "\n",
    "@delayed\n",
    "def add(x, y):\n",
    "    return x + y"
   ]
  },
  {
   "cell_type": "markdown",
   "metadata": {},
   "source": [
    "Or a function can be passed to the `dask.delayed()` function"
   ]
  },
  {
   "cell_type": "code",
   "execution_count": 18,
   "metadata": {},
   "outputs": [],
   "source": [
    "x = delayed(inc)(1)\n",
    "y = delayed(inc)(2)\n",
    "z = add(x,y)"
   ]
  },
  {
   "cell_type": "code",
   "execution_count": 19,
   "metadata": {},
   "outputs": [
    {
     "data": {
      "text/plain": [
       "5"
      ]
     },
     "execution_count": 19,
     "metadata": {},
     "output_type": "execute_result"
    }
   ],
   "source": [
    "z.compute()"
   ]
  },
  {
   "cell_type": "markdown",
   "metadata": {},
   "source": [
    "The `visualize` function can be used to visualize the graph"
   ]
  },
  {
   "cell_type": "code",
   "execution_count": 22,
   "metadata": {},
   "outputs": [
    {
     "data": {
      "image/png": "[encoded data removed]",
      "text/plain": [
       "<IPython.core.display.Image object>"
      ]
     },
     "execution_count": 22,
     "metadata": {},
     "output_type": "execute_result"
    }
   ],
   "source": [
    "z.visualize()"
   ]
  },
  {
   "cell_type": "markdown",
   "metadata": {},
   "source": [
    "All Dask objects have a `dask` attribute that stores the calculations necessary to produce the result in a dictionary"
   ]
  },
  {
   "cell_type": "code",
   "execution_count": 25,
   "metadata": {
    "scrolled": true
   },
   "outputs": [
    {
     "data": {
      "text/plain": [
       "{'inc-badf625d-fc77-49c3-a3a8-520ebc7ce0d2': (<function __main__.inc(x)>, 1),\n",
       " 'inc-cbe2d881-46da-49e4-8e12-9e2a756f4133': (<function __main__.inc(x)>, 2),\n",
       " 'add-2d84e90c54d3a13bd4fff48a7cc67afd': (<function _operator.add(a, b, /)>,\n",
       "  'inc-badf625d-fc77-49c3-a3a8-520ebc7ce0d2',\n",
       "  'inc-cbe2d881-46da-49e4-8e12-9e2a756f4133')}"
      ]
     },
     "execution_count": 25,
     "metadata": {},
     "output_type": "execute_result"
    }
   ],
   "source": [
    "dict(z.dask)\n"
   ]
  },
  {
   "cell_type": "markdown",
   "metadata": {},
   "source": [
    "### Important notes\n",
    "1. Not all functions should be delayed. It may be desirable to immediately execute fast functions which allow us to determine which slow functions need to be called.\n",
    "2. Methods and attribute access on delayed objects work automatically, so if you have a delayed object you can perform normal arithmetic, slicing, and method calls on it and it will produce the correct delayed calls.\n",
    "\n",
    "```\n",
    "x = delayed(np.arange)(10)\n",
    "y = (x + 1)[::2].sum()  # everything here was delayed\n",
    "```"
   ]
  },
  {
   "cell_type": "markdown",
   "metadata": {},
   "source": [
    "## Dask Bags"
   ]
  },
  {
   "cell_type": "markdown",
   "metadata": {},
   "source": [
    "Dask-bag excels in processing data that can be represented as a sequence of arbitrary inputs. We'll refer to this as \"messy\" data, because it can contain complex nested structures, missing fields, mixtures of data types, etc. The functional programming style fits very nicely with standard Python iteration, such as can be found in the itertools module."
   ]
  },
  {
   "cell_type": "markdown",
   "metadata": {},
   "source": [
    "### Creation\n",
    "\n",
    "Dask bags can be created from a Python sequence, files, etc."
   ]
  },
  {
   "cell_type": "code",
   "execution_count": 29,
   "metadata": {},
   "outputs": [
    {
     "data": {
      "text/plain": [
       "(1, 2, 3)"
      ]
     },
     "execution_count": 29,
     "metadata": {},
     "output_type": "execute_result"
    }
   ],
   "source": [
    "# each element is an integer\n",
    "import dask.bag as db\n",
    "b = db.from_sequence([1, 2, 3, 4, 5, 6, 7, 8, 9, 10], npartitions=2)\n",
    "b.take(3)"
   ]
  },
  {
   "cell_type": "markdown",
   "metadata": {},
   "source": [
    "### Manipulation\n",
    "\n",
    "\n",
    "\n",
    "Bag objects hold the standard functional API found in projects like the Python standard library, toolz, or pyspark, including `map`, `filter`, `groupby`, etc..\n",
    "\n",
    "Operations on Bag objects create new bags. Call the `.compute()` method to trigger execution, as we saw for Delayed objects.\n"
   ]
  },
  {
   "cell_type": "code",
   "execution_count": 30,
   "metadata": {},
   "outputs": [
    {
     "data": {
      "text/plain": [
       "dask.bag<map-lam..., npartitions=10>"
      ]
     },
     "execution_count": 30,
     "metadata": {},
     "output_type": "execute_result"
    }
   ],
   "source": [
    "def is_even(n):\n",
    "    return n % 2 == 0\n",
    "\n",
    "b = db.from_sequence([1, 2, 3, 4, 5, 6, 7, 8, 9, 10])\n",
    "c = b.filter(is_even).map(lambda x: x ** 2)\n",
    "c"
   ]
  },
  {
   "cell_type": "code",
   "execution_count": 31,
   "metadata": {},
   "outputs": [
    {
     "data": {
      "text/plain": [
       "[4, 16, 36, 64, 100]"
      ]
     },
     "execution_count": 31,
     "metadata": {},
     "output_type": "execute_result"
    }
   ],
   "source": [
    "# blocking form: wait for completion (which is very fast in this case)\n",
    "c.compute()"
   ]
  },
  {
   "cell_type": "markdown",
   "metadata": {},
   "source": [
    "#### Groupby and Foldby\n",
    "\n",
    "Often we want to group data by some function or key. We can do this either with the .groupby method, which is straightforward but forces a full shuffle of the data (expensive) or with the harder-to-use but faster .foldby method, which does a streaming combined groupby and reduction.\n",
    "\n",
    "* groupby: Shuffles data so that all items with the same key are in the same key-value pair\n",
    "* foldby: Walks through the data accumulating a result per key\n",
    "\n",
    "Note: the full groupby is particularly bad. In actual workloads you would do well to use foldby or switch to DataFrames if possible.\n"
   ]
  },
  {
   "cell_type": "markdown",
   "metadata": {},
   "source": [
    "**groupby**\n",
    "\n",
    "Groupby collects items in your collection so that all items with the same value under some function are collected together into a key-value pair.\n"
   ]
  },
  {
   "cell_type": "code",
   "execution_count": 32,
   "metadata": {},
   "outputs": [
    {
     "data": {
      "text/plain": [
       "[(7, ['Charlie']), (3, ['Bob', 'Dan']), (5, ['Edith', 'Alice', 'Frank'])]"
      ]
     },
     "execution_count": 32,
     "metadata": {},
     "output_type": "execute_result"
    }
   ],
   "source": [
    "b = db.from_sequence(['Alice', 'Bob', 'Charlie', 'Dan', 'Edith', 'Frank'])\n",
    "b.groupby(len).compute()  # names grouped by length"
   ]
  },
  {
   "cell_type": "code",
   "execution_count": 37,
   "metadata": {},
   "outputs": [
    {
     "data": {
      "text/plain": [
       "[(0, 8), (1, 9)]"
      ]
     },
     "execution_count": 37,
     "metadata": {},
     "output_type": "execute_result"
    }
   ],
   "source": [
    "b = db.from_sequence(list(range(10)))\n",
    "is_even = lambda x: x % 2\n",
    "b.groupby(is_even).starmap(lambda k, v: (k, max(v))).compute()"
   ]
  },
  {
   "cell_type": "markdown",
   "metadata": {},
   "source": [
    "**foldby**\n",
    "\n",
    "When using foldby you provide\n",
    "\n",
    "* A key function on which to group elements\n",
    "* A binary operator such as you would pass to reduce that you use to perform reduction per each group\n",
    "* A combine binary operator that can combine the results of two reduce calls on different parts of your dataset.\n",
    "\n",
    "Your reduction must be associative. It will happen in parallel in each of the partitions of your dataset. Then all of these intermediate results will be combined by the combine binary operator."
   ]
  },
  {
   "cell_type": "code",
   "execution_count": 38,
   "metadata": {},
   "outputs": [
    {
     "data": {
      "text/plain": [
       "[(0, 8), (1, 9)]"
      ]
     },
     "execution_count": 38,
     "metadata": {},
     "output_type": "execute_result"
    }
   ],
   "source": [
    "b.foldby(is_even, binop=max, combine=max).compute()"
   ]
  },
  {
   "cell_type": "markdown",
   "metadata": {},
   "source": [
    "### Limitations\n",
    "\n",
    "Bags provide very general computation (any Python function.) This generality comes at cost. Bags have the following known limitations\n",
    "\n",
    "1. Bag operations tend to be slower than array/dataframe computations in the same way that Python tends to be slower than NumPy/Pandas\n",
    "2. Bag.groupby is slow. You should try to use Bag.foldby if possible. Using Bag.foldby requires more thought. Even better, consider creating a normalised dataframe.\n",
    "\n"
   ]
  },
  {
   "cell_type": "markdown",
   "metadata": {},
   "source": [
    "## Dask Arrays\n",
    "\n",
    "Dask array provides a parallel, larger-than-memory, n-dimensional array using blocked algorithms. Simply put: distributed Numpy."
   ]
  },
  {
   "cell_type": "markdown",
   "metadata": {},
   "source": [
    "#### Create dask.array object\n",
    "\n",
    "You can create a dask.array Array object with the da.from_array function. This function accepts\n",
    "\n",
    "1. data: Any object that supports NumPy slicing\n",
    "2. chunks: A chunk size to tell us how to block up our array, like (1000000,)"
   ]
  },
  {
   "cell_type": "code",
   "execution_count": 46,
   "metadata": {},
   "outputs": [],
   "source": [
    "import dask.array as da\n",
    "x = np.random.rand(100000000) # create random numpy array\n",
    "y = da.from_array(x, chunks=(1000000,))"
   ]
  },
  {
   "cell_type": "markdown",
   "metadata": {},
   "source": [
    "#### Manipulate dask.array objct as you would a numpy array\n",
    "Now that we have an Array we perform standard numpy-style computations like arithmetic, mathematics, slicing, reductions, etc..\n"
   ]
  },
  {
   "cell_type": "code",
   "execution_count": 49,
   "metadata": {},
   "outputs": [],
   "source": [
    "result = y.sum()"
   ]
  },
  {
   "cell_type": "code",
   "execution_count": 50,
   "metadata": {},
   "outputs": [
    {
     "data": {
      "text/plain": [
       "49993551.54938029"
      ]
     },
     "execution_count": 50,
     "metadata": {},
     "output_type": "execute_result"
    }
   ],
   "source": [
    "result.compute()"
   ]
  },
  {
   "cell_type": "code",
   "execution_count": 53,
   "metadata": {},
   "outputs": [
    {
     "data": {
      "text/plain": [
       "array([0.54890611, 0.84501265, 0.0433674 , 0.4306912 ])"
      ]
     },
     "execution_count": 53,
     "metadata": {},
     "output_type": "execute_result"
    }
   ],
   "source": [
    "y[0:4].compute()"
   ]
  },
  {
   "cell_type": "markdown",
   "metadata": {},
   "source": [
    "\n",
    "## Limitations\n",
    "\n",
    "Dask.array does not implement the entire numpy interface. Users expecting this will be disappointed. Notably dask.array has the following failings:\n",
    "\n",
    "1. Dask does not implement all of np.linalg. This has been done by a number of excellent BLAS/LAPACK implementations and is the focus of numerous ongoing academic research projects.\n",
    "2. Dask.array does not support any operation where the resulting shape depends on the values of the array. In order to form the Dask graph we must be able to infer the shape of the array before actually executing the operation. This precludes operations like indexing one Dask array with another or operations like np.where.\n",
    "3. Dask.array does not attempt operations like sort which are notoriously difficult to do in parallel and are of somewhat diminished value on very large data (you rarely actually need a full sort). Often we include parallel-friendly alternatives like topk.\n",
    "4. Dask development is driven by immediate need, and so many lesser used functions, like np.full_like have not been implemented purely out of laziness. These would make excellent community contributions."
   ]
  },
  {
   "cell_type": "markdown",
   "metadata": {},
   "source": [
    "### Dask Dataframe\n",
    "\n",
    "The dask.dataframe module implements a blocked parallel DataFrame object that mimics a large subset of the Pandas DataFrame. One Dask DataFrame is comprised of many in-memory pandas DataFrames separated along the index. One operation on a Dask DataFrame triggers many pandas operations on the constituent pandas DataFrames in a way that is mindful of potential parallelism and memory constraints."
   ]
  },
  {
   "cell_type": "code",
   "execution_count": 75,
   "metadata": {},
   "outputs": [
    {
     "data": {
      "text/html": [
       "<div>\n",
       "<style scoped>\n",
       "    .dataframe tbody tr th:only-of-type {\n",
       "        vertical-align: middle;\n",
       "    }\n",
       "\n",
       "    .dataframe tbody tr th {\n",
       "        vertical-align: top;\n",
       "    }\n",
       "\n",
       "    .dataframe thead th {\n",
       "        text-align: right;\n",
       "    }\n",
       "</style>\n",
       "<table border=\"1\" class=\"dataframe\">\n",
       "  <thead>\n",
       "    <tr style=\"text-align: right;\">\n",
       "      <th></th>\n",
       "      <th>Nom_arrond</th>\n",
       "      <th>Invent</th>\n",
       "      <th>No_Civiq</th>\n",
       "      <th>Rue</th>\n",
       "      <th>Rue_De</th>\n",
       "      <th>Rue_a</th>\n",
       "      <th>Nom_parc</th>\n",
       "      <th>Sigle</th>\n",
       "      <th>Injections</th>\n",
       "      <th>x</th>\n",
       "      <th>y</th>\n",
       "      <th>longitude</th>\n",
       "      <th>latitude</th>\n",
       "    </tr>\n",
       "  </thead>\n",
       "  <tbody>\n",
       "    <tr>\n",
       "      <th>0</th>\n",
       "      <td>Ahuntsic-Cartierville</td>\n",
       "      <td>R</td>\n",
       "      <td>10265</td>\n",
       "      <td>Rue Saint-Hubert</td>\n",
       "      <td>SAURIOL E RUE</td>\n",
       "      <td>FLEURY E RUE</td>\n",
       "      <td>NaN</td>\n",
       "      <td>FRPESU</td>\n",
       "      <td>2015</td>\n",
       "      <td>292338.7500</td>\n",
       "      <td>5046268.500</td>\n",
       "      <td>-73.659611</td>\n",
       "      <td>45.556217</td>\n",
       "    </tr>\n",
       "    <tr>\n",
       "      <th>1</th>\n",
       "      <td>Ahuntsic-Cartierville</td>\n",
       "      <td>R</td>\n",
       "      <td>9451</td>\n",
       "      <td>Rue Foucher</td>\n",
       "      <td>CHABANEL E RUE</td>\n",
       "      <td>LOUVAIN E RUE DE</td>\n",
       "      <td>NaN</td>\n",
       "      <td>FRAMKL</td>\n",
       "      <td>2015</td>\n",
       "      <td>293090.7190</td>\n",
       "      <td>5045715.500</td>\n",
       "      <td>-73.649967</td>\n",
       "      <td>45.551254</td>\n",
       "    </tr>\n",
       "    <tr>\n",
       "      <th>2</th>\n",
       "      <td>Ahuntsic-Cartierville</td>\n",
       "      <td>R</td>\n",
       "      <td>10435</td>\n",
       "      <td>Rue Taché</td>\n",
       "      <td>TACHÉ PLACE</td>\n",
       "      <td>PRIEUR E RUE</td>\n",
       "      <td>NaN</td>\n",
       "      <td>FRPE</td>\n",
       "      <td>2015</td>\n",
       "      <td>292521.6820</td>\n",
       "      <td>5047302.000</td>\n",
       "      <td>-73.657294</td>\n",
       "      <td>45.565520</td>\n",
       "    </tr>\n",
       "    <tr>\n",
       "      <th>3</th>\n",
       "      <td>Ahuntsic-Cartierville</td>\n",
       "      <td>R</td>\n",
       "      <td>1475</td>\n",
       "      <td>Rue Prieur Est</td>\n",
       "      <td>OLYMPIA BOULE</td>\n",
       "      <td>HAMEL AVENU</td>\n",
       "      <td>NaN</td>\n",
       "      <td>FRPE</td>\n",
       "      <td>2015</td>\n",
       "      <td>292325.8971</td>\n",
       "      <td>5047059.656</td>\n",
       "      <td>-73.659796</td>\n",
       "      <td>45.563336</td>\n",
       "    </tr>\n",
       "    <tr>\n",
       "      <th>4</th>\n",
       "      <td>Ahuntsic-Cartierville</td>\n",
       "      <td>R</td>\n",
       "      <td>9905</td>\n",
       "      <td>Avenue du Sacré-Coeur</td>\n",
       "      <td>SAUVÉ E RUE</td>\n",
       "      <td>SAURIOL E RUE</td>\n",
       "      <td>NaN</td>\n",
       "      <td>FRPE</td>\n",
       "      <td>2015</td>\n",
       "      <td>292839.2650</td>\n",
       "      <td>5046594.000</td>\n",
       "      <td>-73.653208</td>\n",
       "      <td>45.559155</td>\n",
       "    </tr>\n",
       "  </tbody>\n",
       "</table>\n",
       "</div>"
      ],
      "text/plain": [
       "              Nom_arrond Invent No_Civiq                    Rue  \\\n",
       "0  Ahuntsic-Cartierville      R    10265       Rue Saint-Hubert   \n",
       "1  Ahuntsic-Cartierville      R     9451            Rue Foucher   \n",
       "2  Ahuntsic-Cartierville      R    10435              Rue Taché   \n",
       "3  Ahuntsic-Cartierville      R     1475         Rue Prieur Est   \n",
       "4  Ahuntsic-Cartierville      R     9905  Avenue du Sacré-Coeur   \n",
       "\n",
       "           Rue_De             Rue_a Nom_parc   Sigle  Injections            x  \\\n",
       "0   SAURIOL E RUE      FLEURY E RUE      NaN  FRPESU        2015  292338.7500   \n",
       "1  CHABANEL E RUE  LOUVAIN E RUE DE      NaN  FRAMKL        2015  293090.7190   \n",
       "2     TACHÉ PLACE      PRIEUR E RUE      NaN    FRPE        2015  292521.6820   \n",
       "3   OLYMPIA BOULE       HAMEL AVENU      NaN    FRPE        2015  292325.8971   \n",
       "4     SAUVÉ E RUE     SAURIOL E RUE      NaN    FRPE        2015  292839.2650   \n",
       "\n",
       "             y  longitude   latitude  \n",
       "0  5046268.500 -73.659611  45.556217  \n",
       "1  5045715.500 -73.649967  45.551254  \n",
       "2  5047302.000 -73.657294  45.565520  \n",
       "3  5047059.656 -73.659796  45.563336  \n",
       "4  5046594.000 -73.653208  45.559155  "
      ]
     },
     "execution_count": 75,
     "metadata": {},
     "output_type": "execute_result"
    }
   ],
   "source": [
    "import dask.dataframe as dd\n",
    "\n",
    "# Note: datatypes are inferred by reading the first couple of lines\n",
    "# and may be incorrect and therefore need to be supplied\n",
    "df = dd.read_csv('frenepublicinjection2015.csv',\n",
    "                 dtype={\"No_Civiq\": str, \"Nom_parc\": str})\n",
    "# load and count number of rows\n",
    "df.head()"
   ]
  },
  {
   "cell_type": "code",
   "execution_count": 70,
   "metadata": {},
   "outputs": [
    {
     "data": {
      "text/plain": [
       "21914"
      ]
     },
     "execution_count": 70,
     "metadata": {},
     "output_type": "execute_result"
    }
   ],
   "source": [
    "# len is applied to each individual pandas dataframe\n",
    "# and then the subtotals are combined by Dask\n",
    "len(df)"
   ]
  },
  {
   "cell_type": "code",
   "execution_count": 77,
   "metadata": {},
   "outputs": [
    {
     "data": {
      "image/png": "[encoded data removed]",
      "text/plain": [
       "<IPython.core.display.Image object>"
      ]
     },
     "execution_count": 77,
     "metadata": {},
     "output_type": "execute_result"
    }
   ],
   "source": [
    "df.latitude.max().visualize()"
   ]
  },
  {
   "cell_type": "markdown",
   "metadata": {},
   "source": [
    "### Limitations\n",
    "#### What doesn't work?\n",
    "\n",
    "Dask.dataframe only covers a small but well-used portion of the Pandas API. This limitation is for two reasons:\n",
    "\n",
    "1. The Pandas API is huge\n",
    "2. Some operations are genuinely hard to do in parallel (e.g. sort)\n",
    "\n",
    "Additionally, some important operations like set_index work, but are slower than in Pandas because they include substantial shuffling of data, and may write out to disk.\n"
   ]
  }
 ],
 "metadata": {
  "kernelspec": {
   "display_name": "Python 3",
   "language": "python",
   "name": "python3"
  },
  "language_info": {
   "codemirror_mode": {
    "name": "ipython",
    "version": 3
   },
   "file_extension": ".py",
   "mimetype": "text/x-python",
   "name": "python",
   "nbconvert_exporter": "python",
   "pygments_lexer": "ipython3",
   "version": "3.7.2"
  }
 },
 "nbformat": 4,
 "nbformat_minor": 2
}
